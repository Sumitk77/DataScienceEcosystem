{
 "cells": [
  {
   "cell_type": "markdown",
   "id": "3d33f279-3d8f-4a63-abc6-4c11326a74d3",
   "metadata": {},
   "source": [
    "# Data Science Tool and Ecosystem"
   ]
  },
  {
   "cell_type": "markdown",
   "id": "845ec43b-b775-42dc-97a7-e6e75f401744",
   "metadata": {},
   "source": [
    "### In this notebook, Data Science Tools and Ecosystem are summarized."
   ]
  },
  {
   "cell_type": "markdown",
   "id": "60df2179-6cd9-4d2c-916f-fdab7b8c544b",
   "metadata": {},
   "source": [
    "__Objectives:__\n",
    "- Popular languages\n",
    "- Commonly used libraries\n",
    "- Few examples of evaluating arithmetic operations"
   ]
  },
  {
   "cell_type": "markdown",
   "id": "2285c3dc-ce37-4bea-83f8-5c346d734dd8",
   "metadata": {},
   "source": [
    "## Author\n",
    "Sumit Anil Khilare"
   ]
  },
  {
   "cell_type": "code",
   "execution_count": null,
   "id": "cfccef41-5533-47b8-8402-2ef55659937b",
   "metadata": {},
   "outputs": [],
   "source": []
  },
  {
   "cell_type": "markdown",
   "id": "0514239e-7d04-4187-875a-95ea84ec66b6",
   "metadata": {},
   "source": [
    "### Some of the popular languages that Data Scientists use are:\n",
    "### 1. Python\n",
    "### 2. R\n",
    "### 3. SQL"
   ]
  },
  {
   "cell_type": "markdown",
   "id": "396c0c51-eea1-483e-8ef1-2531019f5f78",
   "metadata": {},
   "source": [
    "### Some of the commonly used libraries used by Data Scientists include:\n",
    "#### 1.Numpy\n",
    "#### 2.Pandas\n",
    "#### 3.Matplotlib"
   ]
  },
  {
   "cell_type": "markdown",
   "id": "81ab5851-b3be-4372-9dbe-ef06964305da",
   "metadata": {},
   "source": [
    "| Data Science Tools |\n",
    "|--------------------|\n",
    "| Jupyter Notebook |\n",
    "| RStudio |\n",
    "| VS Code |"
   ]
  },
  {
   "cell_type": "markdown",
   "id": "8611ab2a-93ef-4955-9720-13eacc917938",
   "metadata": {},
   "source": [
    "### Below are a few examples of evaluating arithmetic expressions in Python"
   ]
  },
  {
   "cell_type": "code",
   "execution_count": 2,
   "id": "a1911899-0a4a-4442-bd4b-19fe64299f4a",
   "metadata": {},
   "outputs": [
    {
     "data": {
      "text/plain": [
       "17"
      ]
     },
     "execution_count": 2,
     "metadata": {},
     "output_type": "execute_result"
    }
   ],
   "source": [
    "# This a simple arithmetic expression to mutiply then add integers\n",
    "(3*4)+5"
   ]
  },
  {
   "cell_type": "code",
   "execution_count": 3,
   "id": "2322d0bd-4c2f-4758-8ef9-c847356a1864",
   "metadata": {},
   "outputs": [
    {
     "data": {
      "text/plain": [
       "3.3333333333333335"
      ]
     },
     "execution_count": 3,
     "metadata": {},
     "output_type": "execute_result"
    }
   ],
   "source": [
    "#This will convert 200 minutes to hours by diving by 60\n",
    "200/60"
   ]
  },
  {
   "cell_type": "code",
   "execution_count": null,
   "id": "e2203b8a-63a5-4f74-8049-097bcd5ee952",
   "metadata": {},
   "outputs": [],
   "source": []
  }
 ],
 "metadata": {
  "kernelspec": {
   "display_name": "Python 3 (ipykernel)",
   "language": "python",
   "name": "python3"
  },
  "language_info": {
   "codemirror_mode": {
    "name": "ipython",
    "version": 3
   },
   "file_extension": ".py",
   "mimetype": "text/x-python",
   "name": "python",
   "nbconvert_exporter": "python",
   "pygments_lexer": "ipython3",
   "version": "3.11.0"
  }
 },
 "nbformat": 4,
 "nbformat_minor": 5
}
